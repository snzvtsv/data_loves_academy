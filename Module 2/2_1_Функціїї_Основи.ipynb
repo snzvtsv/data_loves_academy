{
  "cells": [
    {
      "cell_type": "markdown",
      "metadata": {
        "id": "QtHabST6Ez_n"
      },
      "source": [
        "# Домашнє завдання до теми \"Functions\""
      ]
    },
    {
      "cell_type": "markdown",
      "metadata": {
        "id": "6pg_NzFq5_kO"
      },
      "source": [
        "1. Напишіть фукнцію `print_message`, яка виводить на екран \"Я програмую на Python💪\" і викличіть цю фукнцію 5 разів (найкраще це зробити в циклі).\n",
        "\n",
        "  **Увага**: фукнція має робити чітко лише зазначений функціонал. Наявність додаткового функціоналу і аргументів, які не потрібні для виконання безпосередньо завдання, буде вважатись помилкою."
      ]
    },
    {
      "cell_type": "code",
      "execution_count": 1,
      "metadata": {
        "id": "RbXsfwI_D8ql"
      },
      "outputs": [
        {
          "name": "stdout",
          "output_type": "stream",
          "text": [
            "Я програмую на Python💪\n",
            "Я програмую на Python💪\n",
            "Я програмую на Python💪\n",
            "Я програмую на Python💪\n",
            "Я програмую на Python💪\n"
          ]
        }
      ],
      "source": [
        "def print_message():\n",
        "    print(\"Я програмую на Python💪\")\n",
        "\n",
        "for i in range(5):\n",
        "    print_message()\n",
        "    \n",
        "        "
      ]
    },
    {
      "cell_type": "code",
      "execution_count": 6,
      "metadata": {},
      "outputs": [
        {
          "name": "stdout",
          "output_type": "stream",
          "text": [
            "Я програмую на Python💪\n",
            "Я програмую на Python💪\n",
            "Я програмую на Python💪\n",
            "Я програмую на Python💪\n",
            "Я програмую на Python💪\n"
          ]
        }
      ],
      "source": [
        "# OR\n",
        "def print_message():\n",
        "    for i in range(5):\n",
        "        print(\"Я програмую на Python💪\" )\n",
        "\n",
        "print_message()"
      ]
    },
    {
      "cell_type": "markdown",
      "metadata": {
        "id": "oyRpWRXWBL9N"
      },
      "source": [
        "2. Напишіть функцію `calculation` яка приймає на вхід 4 аргументи типу int - `a`, `b`, `c`, `d` і вертає результат обчислення такої формули: $ (a + b - c) * d $.\n",
        "\n",
        "  Викличте функцію на наступному наборі аргументів і виведіть результат на екран:\n",
        "  ```\n",
        "  a = 16\n",
        "  b = 4\n",
        "  c = 9\n",
        "  d = 3\n",
        "  ```"
      ]
    },
    {
      "cell_type": "code",
      "execution_count": 16,
      "metadata": {},
      "outputs": [
        {
          "data": {
            "text/plain": [
              "33"
            ]
          },
          "execution_count": 16,
          "metadata": {},
          "output_type": "execute_result"
        }
      ],
      "source": [
        "def calcultation(a: int, b: int, c: int, d: int):\n",
        "    return (a + b - c) * d\n",
        "\n",
        "calcultation(a, b, c, d)"
      ]
    },
    {
      "cell_type": "code",
      "execution_count": 9,
      "metadata": {
        "id": "Ggt2tx6kD-LS"
      },
      "outputs": [],
      "source": [
        "a = 16\n",
        "b = 4\n",
        "c = 9\n",
        "d = 3"
      ]
    },
    {
      "cell_type": "code",
      "execution_count": 13,
      "metadata": {},
      "outputs": [
        {
          "data": {
            "text/plain": [
              "33"
            ]
          },
          "execution_count": 13,
          "metadata": {},
          "output_type": "execute_result"
        }
      ],
      "source": [
        "# OR\n",
        "def calcultation(a = 16, b = 4, c = 9, d = 3) -> int:\n",
        "    return (a + b - c) * d \n",
        "\n",
        "calcultation()\n",
        "\n",
        "    "
      ]
    },
    {
      "cell_type": "markdown",
      "metadata": {
        "id": "5hf1CbllDU_t"
      },
      "source": [
        "3. Напишіть функцію, яка додає до аргумента 15 і вертає результат додавання. Викличте функцію, передаючи в якості аргументів кожну з наступних змінних по черзі, і виведіть кожного разу результат на екран.\n",
        "```\n",
        "x = 9\n",
        "y = 14\n",
        "z = -19\n",
        "```"
      ]
    },
    {
      "cell_type": "code",
      "execution_count": 18,
      "metadata": {},
      "outputs": [],
      "source": [
        "x = 9\n",
        "y = 14\n",
        "z = -19"
      ]
    },
    {
      "cell_type": "code",
      "execution_count": 35,
      "metadata": {},
      "outputs": [
        {
          "name": "stdout",
          "output_type": "stream",
          "text": [
            "New X is 24\n",
            "New Y is 29\n",
            "New Z is -4\n"
          ]
        }
      ],
      "source": [
        "def add(a: int) -> int:\n",
        "    sum = a + 15\n",
        "    return sum\n",
        "\n",
        "print(f\"New X is\", add(x))\n",
        "print(f\"New Y is\", add(y))\n",
        "print(f\"New Z is\", add(z))\n",
        "\n",
        "    "
      ]
    },
    {
      "cell_type": "code",
      "execution_count": 34,
      "metadata": {
        "id": "GvEs_nUtD_Cd"
      },
      "outputs": [
        {
          "name": "stdout",
          "output_type": "stream",
          "text": [
            "24\n",
            "29\n",
            "-4\n"
          ]
        }
      ],
      "source": [
        "# OR\n",
        "def add(a: int) -> int:\n",
        "    return a + 15\n",
        "\n",
        "print(add(x))\n",
        "print(add(y))\n",
        "print(add(z))\n"
      ]
    },
    {
      "cell_type": "markdown",
      "metadata": {
        "id": "bUuVBhie53uK"
      },
      "source": [
        "4. Напишіть функцію `multipy_numbers`, яка приймає два числа як аргументи і повертає їх добуток.\n",
        "\n",
        "  Викличіть функцію `multipy_numbers` на парах чисел\n",
        "    - 10 і 2\n",
        "    - 7 і 8\n",
        "    - 1024 і 999.\n",
        "  \n",
        "  Виведіть результат кожного виклику.\n",
        "  При виконанні цього завдання з використанням циклу - отримаєте 2х балів за нього :)"
      ]
    },
    {
      "cell_type": "code",
      "execution_count": 38,
      "metadata": {
        "id": "cDqrgZ4YEAKj"
      },
      "outputs": [
        {
          "name": "stdout",
          "output_type": "stream",
          "text": [
            "20\n",
            "56\n",
            "1022976\n"
          ]
        }
      ],
      "source": [
        "def multipy_numbers(a: int, b: int) -> int:\n",
        "    return a * b\n",
        "\n",
        "print(multipy_numbers(10, 2))\n",
        "print(multipy_numbers(7, 8))\n",
        "print(multipy_numbers(1024, 999))"
      ]
    },
    {
      "cell_type": "code",
      "execution_count": 64,
      "metadata": {},
      "outputs": [
        {
          "name": "stdout",
          "output_type": "stream",
          "text": [
            "20\n",
            "56\n",
            "1022976\n"
          ]
        }
      ],
      "source": [
        "#OR dictionary\n",
        "\n",
        "num_pairs = {\n",
        "    \"first-pair\": (10, 2),\n",
        "    \"second-pair\": (7, 8),\n",
        "    \"third-pair\": (1024, 999)\n",
        "}\n",
        "\n",
        "def multipy_numbers(a, b):\n",
        "    return a * b\n",
        "\n",
        "for a, b in num_pairs.values():\n",
        "    print(multipy_numbers(a, b))"
      ]
    },
    {
      "cell_type": "code",
      "execution_count": 71,
      "metadata": {},
      "outputs": [
        {
          "name": "stdout",
          "output_type": "stream",
          "text": [
            "20\n",
            "56\n",
            "1022976\n"
          ]
        }
      ],
      "source": [
        "#OR tuple\n",
        "\n",
        "num_pairs = ((10, 2), (7, 8), (1024, 999))\n",
        "\n",
        "def multipy_numbers(a, b):\n",
        "    return a * b\n",
        "\n",
        "for a, b in num_pairs:\n",
        "    print(multipy_numbers(a, b))\n",
        "\n"
      ]
    },
    {
      "cell_type": "code",
      "execution_count": 69,
      "metadata": {},
      "outputs": [
        {
          "name": "stdout",
          "output_type": "stream",
          "text": [
            "20\n",
            "56\n",
            "1022976\n"
          ]
        }
      ],
      "source": [
        "#OR list \n",
        "num_pairs = [[10, 2], [7, 8], [1024, 999]]\n",
        "\n",
        "def multipy_numbers(a, b):\n",
        "    return a * b\n",
        "\n",
        "for a, b in num_pairs:\n",
        "    print(multipy_numbers(a, b))\n"
      ]
    },
    {
      "cell_type": "markdown",
      "metadata": {
        "id": "I03t46k27dDZ"
      },
      "source": [
        "5. **Ділення з перевіркою типів.**  \n",
        "\n",
        "  1. Напишіть функцію `int_division` яка приймає на вхід два аргументи типу `int` - `a` і `b`, і виконує ділення першого аргумента на другий: `a/b`. При цьому функція перед діленням перевіряє, чи другий аргумент не дорівнює 0. Якщо другий аргумент не 0, фукнція вертає результат ділення, інакше - замість виконання ділення, вертає повідомлення на екран \"Не можу виконати ділення на 0\".\n",
        "\n",
        "    Якщо типи, надані у функцію, не `int` - функція виводить повідомлення \"Не працюю з такими типами даних.\".\n",
        "\n",
        "  2. Запустіть функцію на наступних парах чисел:\n",
        "  - 12 і 6\n",
        "  - 20 і 0\n",
        "  - 112 і 10\n",
        "  - 99 і 0\n",
        "  - 11 i 1.1\n",
        "\n",
        "    і виведіть на екран повідомлення \"Результат роботи функції: \" - і далі те, що повернула функція.\n",
        "\n",
        "  3. Дайте відповідь на питання: \"Чому в деяких випадках функція повернула None?\""
      ]
    },
    {
      "cell_type": "code",
      "execution_count": null,
      "metadata": {},
      "outputs": [],
      "source": [
        "# Функція повертає None, тому що не вказали return після print (технічно він не повертає value тільки записує)"
      ]
    },
    {
      "cell_type": "code",
      "execution_count": 87,
      "metadata": {},
      "outputs": [],
      "source": [
        "def int_division(a: int, b: int) -> int:\n",
        "    if b != 0:\n",
        "        return a / b\n",
        "    elif b == 0:\n",
        "        print(\"Не можу виконати ділення на 0\")\n",
        "    elif not isinstance(b, int):\n",
        "        print(\"Не працюю з такими типами даних.\")"
      ]
    },
    {
      "cell_type": "code",
      "execution_count": 86,
      "metadata": {
        "id": "1-EQhxrAEEAb"
      },
      "outputs": [
        {
          "name": "stdout",
          "output_type": "stream",
          "text": [
            "Результат роботи функції:  2.0 \n",
            "\n",
            "Не можу виконати ділення на 0\n",
            "Результат роботи функції:  None \n",
            "\n",
            "Результат роботи функції:  11.2 \n",
            "\n",
            "Не можу виконати ділення на 0\n",
            "Результат роботи функції:  None \n",
            "\n",
            "Результат роботи функції:  10.0 \n",
            "\n"
          ]
        }
      ],
      "source": [
        "num_pairs = ((12, 6), (20, 0), (112, 10), (99, 0), (11, 1.1))\n",
        "\n",
        "for a, b in num_pairs:\n",
        "    print(f\"Результат роботи функції: \", int_division(a, b), end=' \\n\\n')"
      ]
    }
  ],
  "metadata": {
    "colab": {
      "provenance": []
    },
    "kernelspec": {
      "display_name": "Python 3",
      "name": "python3"
    },
    "language_info": {
      "codemirror_mode": {
        "name": "ipython",
        "version": 3
      },
      "file_extension": ".py",
      "mimetype": "text/x-python",
      "name": "python",
      "nbconvert_exporter": "python",
      "pygments_lexer": "ipython3",
      "version": "3.13.0"
    }
  },
  "nbformat": 4,
  "nbformat_minor": 0
}
