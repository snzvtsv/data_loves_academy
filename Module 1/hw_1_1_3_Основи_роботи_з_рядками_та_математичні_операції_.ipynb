{
  "cells": [
    {
      "cell_type": "markdown",
      "metadata": {
        "id": "9ngpqNFm8w1a"
      },
      "source": [
        "# Домашнє завдання до теми \"Основи роботи з рядками та математичні операції\""
      ]
    },
    {
      "cell_type": "markdown",
      "metadata": {
        "id": "DEkQSeSyTum-"
      },
      "source": [
        "1. Створіть змінні `a`, `b`, `c` та `d`, задайте їм значення відповідно 101, 210, 111, 402, та обчисліть з допомогою Python наступний вираз:  $$ \\frac{(a+b) * c}{d} $$\n",
        "\n",
        "**Важливо**: тут ми маємо обчислити значення саме з використанням змінних, а не просто чисел, як би ми робили у калькуряторі. Змінні потрібні аби за бажання ми могли змінити їх значення та не переписувати код обчислення виразу, бо він буде працювати для різних значень змінних."
      ]
    },
    {
      "cell_type": "code",
      "execution_count": 1,
      "metadata": {
        "id": "u1ICQq5L3eKH"
      },
      "outputs": [
        {
          "name": "stdout",
          "output_type": "stream",
          "text": [
            "85.8731343283582\n"
          ]
        }
      ],
      "source": [
        "a = 101\n",
        "b = 210\n",
        "c = 111\n",
        "d = 402\n",
        "print(((a + b)*c)/d)"
      ]
    },
    {
      "cell_type": "markdown",
      "metadata": {
        "id": "FnBVPt7G3bcR"
      },
      "source": [
        "Очікувана відповідь: 85.8731343283582"
      ]
    },
    {
      "cell_type": "markdown",
      "metadata": {
        "id": "HI3eEYZRT4Cn"
      },
      "source": [
        "2. Якою буде остача від ділення числа 11283 на 89? Обчисліть з допомогою Python."
      ]
    },
    {
      "cell_type": "code",
      "execution_count": 4,
      "metadata": {
        "id": "ejZc3ng_TpgY"
      },
      "outputs": [
        {
          "name": "stdout",
          "output_type": "stream",
          "text": [
            "69\n"
          ]
        }
      ],
      "source": [
        "print(11283 % 89)"
      ]
    },
    {
      "cell_type": "markdown",
      "metadata": {
        "id": "RO02CqdqT9oG"
      },
      "source": [
        "3. Скільки цілих разів поміститься число 89 в 11283? (Або що те саме: який буде результат цілочисельного ділення 11283 на 89?)"
      ]
    },
    {
      "cell_type": "code",
      "execution_count": 3,
      "metadata": {
        "id": "KEUb9lO5T_PI"
      },
      "outputs": [
        {
          "name": "stdout",
          "output_type": "stream",
          "text": [
            "126\n"
          ]
        }
      ],
      "source": [
        "print(11283 // 89)"
      ]
    },
    {
      "cell_type": "markdown",
      "metadata": {
        "id": "5fnIPumiT_rt"
      },
      "source": [
        "4. Запишіть у змінну `name` ваше імʼя."
      ]
    },
    {
      "cell_type": "code",
      "execution_count": 7,
      "metadata": {
        "id": "xP7Mbq45UFlV"
      },
      "outputs": [],
      "source": [
        "name = \"Sofiia\""
      ]
    },
    {
      "cell_type": "markdown",
      "metadata": {
        "id": "fR9TqY79UNDL"
      },
      "source": [
        "5. Запишіть у змінну `surname` ваше прізвище."
      ]
    },
    {
      "cell_type": "code",
      "execution_count": 8,
      "metadata": {
        "id": "0qHjyMyvUOM1"
      },
      "outputs": [],
      "source": [
        "surname = \"Nizovtsova\""
      ]
    },
    {
      "cell_type": "markdown",
      "metadata": {
        "id": "zqKncQLwUOxh"
      },
      "source": [
        "6. Сконкатенуйте імʼя та прізвище в одну фразу через пробіл. Запишіть результат у нову змінну `name_surname` та виведіть результат на екран.  "
      ]
    },
    {
      "cell_type": "code",
      "execution_count": 9,
      "metadata": {
        "id": "8E-blvN-UTPg"
      },
      "outputs": [
        {
          "name": "stdout",
          "output_type": "stream",
          "text": [
            "Sofiia Nizovtsova\n"
          ]
        }
      ],
      "source": [
        "name_surname = name + \" \" + surname\n",
        "print(name_surname)"
      ]
    },
    {
      "cell_type": "markdown",
      "metadata": {
        "id": "_Unl7EXlUgYn"
      },
      "source": [
        "Очікувана відповідь (тільки з вашими даними): 'Hanna Pylieva'"
      ]
    },
    {
      "cell_type": "markdown",
      "metadata": {
        "id": "z-3FI0IrUT0U"
      },
      "source": [
        "7. Зробіть усі літери змінної `name_surname` заглавними використовуючи метод рядків в Python:"
      ]
    },
    {
      "cell_type": "code",
      "execution_count": 10,
      "metadata": {
        "id": "9ahIwyT5UblY"
      },
      "outputs": [
        {
          "name": "stdout",
          "output_type": "stream",
          "text": [
            "SOFIIA NIZOVTSOVA\n"
          ]
        }
      ],
      "source": [
        "print(name_surname.upper())"
      ]
    },
    {
      "cell_type": "markdown",
      "metadata": {
        "id": "6PDcqfmdUcLo"
      },
      "source": [
        "Очікувана відповідь (тільки з вашими даними): 'HANNA PYLIEVA'"
      ]
    },
    {
      "cell_type": "code",
      "execution_count": null,
      "metadata": {
        "id": "K40EaRr2UfsH"
      },
      "outputs": [],
      "source": []
    },
    {
      "cell_type": "markdown",
      "metadata": {
        "id": "qNl8KxeXUtnL"
      },
      "source": [
        "8. Виведіть третю літеру вашого `name_surname`. Тут уважно, треба саме третя літера. Згадайте, з якого значення починається індексування значень в Python."
      ]
    },
    {
      "cell_type": "code",
      "execution_count": 11,
      "metadata": {
        "id": "Tp7stqAhUvJz"
      },
      "outputs": [
        {
          "name": "stdout",
          "output_type": "stream",
          "text": [
            "f\n"
          ]
        }
      ],
      "source": [
        "print(name_surname[2])"
      ]
    },
    {
      "cell_type": "markdown",
      "metadata": {
        "id": "GYWHqb3UUvqk"
      },
      "source": [
        "Очікувана відповідь (тільки з вашими даними): 'n'"
      ]
    },
    {
      "cell_type": "markdown",
      "metadata": {
        "id": "1f3cc1a7",
        "pycharm": {
          "name": "#%% md\n"
        }
      },
      "source": [
        "9. Виведіть першу та останню літеру вашого прізвища."
      ]
    },
    {
      "cell_type": "code",
      "execution_count": 22,
      "metadata": {
        "id": "s1ZgN3xuUyB8"
      },
      "outputs": [
        {
          "name": "stdout",
          "output_type": "stream",
          "text": [
            "N\n"
          ]
        },
        {
          "data": {
            "text/plain": [
              "10"
            ]
          },
          "execution_count": 22,
          "metadata": {},
          "output_type": "execute_result"
        }
      ],
      "source": [
        "print(surname[0]) # first letter, if we know the WHOLE surname\n",
        "\n",
        "len(surname)\n"
      ]
    },
    {
      "cell_type": "code",
      "execution_count": 25,
      "metadata": {},
      "outputs": [
        {
          "name": "stdout",
          "output_type": "stream",
          "text": [
            "a\n"
          ]
        }
      ],
      "source": [
        "print(surname[9]) # last letter, if we know the WHOLE surname"
      ]
    },
    {
      "cell_type": "code",
      "execution_count": 27,
      "metadata": {},
      "outputs": [
        {
          "name": "stdout",
          "output_type": "stream",
          "text": [
            "0\n",
            "9\n"
          ]
        }
      ],
      "source": [
        "print(surname.find(\"N\")) #first letter and its index number\n",
        "print(surname.find(\"a\")) #last letter and its index number, if we dont know the length of the surname"
      ]
    },
    {
      "cell_type": "code",
      "execution_count": 31,
      "metadata": {},
      "outputs": [
        {
          "name": "stdout",
          "output_type": "stream",
          "text": [
            "N a\n"
          ]
        }
      ],
      "source": [
        "print(surname[0], surname[9])"
      ]
    },
    {
      "cell_type": "markdown",
      "metadata": {
        "id": "KjlFjjhHVAt2"
      },
      "source": [
        "Очікувана відповідь (тільки з вашими даними): ('P', 'a')"
      ]
    },
    {
      "cell_type": "markdown",
      "metadata": {
        "id": "UYLoho3DVMt2"
      },
      "source": [
        "10. Виведіть довжину вашого прізвища."
      ]
    },
    {
      "cell_type": "code",
      "execution_count": 32,
      "metadata": {
        "id": "0TPJBh0LVA8q"
      },
      "outputs": [
        {
          "data": {
            "text/plain": [
              "10"
            ]
          },
          "execution_count": 32,
          "metadata": {},
          "output_type": "execute_result"
        }
      ],
      "source": [
        "len(surname)"
      ]
    },
    {
      "cell_type": "markdown",
      "metadata": {
        "id": "9FaxqvVgVRYW"
      },
      "source": [
        "Очікувана відповідь (тільки з вашими даними): 7\n"
      ]
    },
    {
      "cell_type": "markdown",
      "metadata": {
        "id": "JN2wxSlGVVAj"
      },
      "source": [
        "11. Виведіть кількість літер `a` у столиці Мадагаскару `Antananarivo`. Важливо врахувати всі літери, як великі, так і маленькі."
      ]
    },
    {
      "cell_type": "code",
      "execution_count": 91,
      "metadata": {
        "id": "LCeHHz9bVUgL"
      },
      "outputs": [
        {
          "name": "stdout",
          "output_type": "stream",
          "text": [
            "4\n"
          ]
        }
      ],
      "source": [
        "capital_Mad = \"Antananarivo\"\n",
        "upper_a_capital_Mad = capital_Mad.count('A') # with 'find' it doesnt work, only works with count\n",
        "lower_a_capital_Mad = capital_Mad.find('a', 0, 11)\n",
        "print (upper_a_capital_Mad + lower_a_capital_Mad)\n"
      ]
    },
    {
      "cell_type": "code",
      "execution_count": 78,
      "metadata": {},
      "outputs": [
        {
          "name": "stdout",
          "output_type": "stream",
          "text": [
            "4\n"
          ]
        }
      ],
      "source": [
        "#OR2\n",
        "capital_Mad2 = \"Antananarivo\"\n",
        "lower_a_capital_Mad2 = capital_Mad2.lower().count('a', 0, 11)\n",
        "print(lower_a_capital_Mad2)\n"
      ]
    },
    {
      "cell_type": "code",
      "execution_count": 83,
      "metadata": {},
      "outputs": [
        {
          "name": "stdout",
          "output_type": "stream",
          "text": [
            "4\n"
          ]
        }
      ],
      "source": [
        "#OR3\n",
        "num_a_capital_Mad3 = capital_Mad[0:11].count('A') + capital_Mad[0:11].count('a')\n",
        "print(num_a_capital_Mad3)"
      ]
    },
    {
      "cell_type": "markdown",
      "metadata": {
        "id": "Ux4SQiuSVo92"
      },
      "source": [
        "Очікувана відповідь: 4"
      ]
    },
    {
      "cell_type": "markdown",
      "metadata": {
        "id": "mwEs0xnmVtes"
      },
      "source": [
        "12. Створіть рядок `my_string` зі значенням: \"The quick brown fox jumps over the lazy dog!!!\".   \n",
        "Перевірте, чи починається рядок `my_string` з \"The\" і чи закінчується він \"dog!\". Виведіть результати на екран."
      ]
    },
    {
      "cell_type": "code",
      "execution_count": 87,
      "metadata": {
        "id": "VlXDNpXcVs59"
      },
      "outputs": [
        {
          "name": "stdout",
          "output_type": "stream",
          "text": [
            "True\n",
            "False\n"
          ]
        }
      ],
      "source": [
        "my_string = 'The quick brown fox jumps over the lazy dog!!!'\n",
        "\n",
        "print(my_string.startswith('The'))\n",
        "print(my_string.endswith('dog!'))\n"
      ]
    },
    {
      "cell_type": "code",
      "execution_count": 96,
      "metadata": {},
      "outputs": [
        {
          "name": "stdout",
          "output_type": "stream",
          "text": [
            "Ей! Цей рядок починається зі слова \"The\"\n",
            "На жаль, цей рядок не закінчується словом \"dog!\"\n"
          ]
        }
      ],
      "source": [
        "#OR\n",
        "if my_string.startswith('The') == True:\n",
        "    print('Ей! Цей рядок починається зі слова \"The\"')\n",
        "else:\n",
        "    print('На жаль, цей рядок не починається зі слова \"The\"')\n",
        "    \n",
        "if my_string.endswith('dog!') == True:\n",
        "    print('Цій рядок закінчується словом \"dog!\"')\n",
        "else:\n",
        "    print('На жаль, цей рядок не закінчується словом \"dog!\"')"
      ]
    },
    {
      "cell_type": "markdown",
      "metadata": {
        "id": "Yc-UwtqvV_h0"
      },
      "source": [
        "13. Розділіть рядок `my_string` на список окремих слів, а потім з'єднайте всі слова через нижнє підкреслювання. Виведіть результат на екран."
      ]
    },
    {
      "cell_type": "code",
      "execution_count": 129,
      "metadata": {
        "id": "m5I48Ii-WDSK"
      },
      "outputs": [
        {
          "name": "stdout",
          "output_type": "stream",
          "text": [
            "['The', 'quick', 'brown', 'fox', 'jumps', 'over', 'the', 'lazy', 'dog!!!']\n"
          ]
        }
      ],
      "source": [
        "separated_str = (my_string.split())\n",
        "print(separated_str)"
      ]
    },
    {
      "cell_type": "code",
      "execution_count": 127,
      "metadata": {},
      "outputs": [
        {
          "name": "stdout",
          "output_type": "stream",
          "text": [
            "The_quick_brown_fox_jumps_over_the_lazy_dog!!!\n"
          ]
        }
      ],
      "source": [
        "print('_'.join(separated_str))"
      ]
    },
    {
      "cell_type": "markdown",
      "metadata": {
        "id": "UqvD1_jIXRhx"
      },
      "source": [
        "Очікуваний результат: `The_quick_brown_fox_jumps_over_the_lazy_dog!!!`"
      ]
    }
  ],
  "metadata": {
    "colab": {
      "provenance": []
    },
    "kernelspec": {
      "display_name": "Python 3",
      "name": "python3"
    },
    "language_info": {
      "codemirror_mode": {
        "name": "ipython",
        "version": 3
      },
      "file_extension": ".py",
      "mimetype": "text/x-python",
      "name": "python",
      "nbconvert_exporter": "python",
      "pygments_lexer": "ipython3",
      "version": "3.13.0"
    }
  },
  "nbformat": 4,
  "nbformat_minor": 0
}
